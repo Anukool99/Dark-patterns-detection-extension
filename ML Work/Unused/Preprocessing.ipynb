{
 "cells": [
  {
   "cell_type": "code",
   "execution_count": 1,
   "id": "d7d77560",
   "metadata": {},
   "outputs": [],
   "source": [
    "#IMPORTING ESSENTIAL LIBRARIES\n",
    "import pandas as pd\n",
    "from sklearn.feature_extraction.text import TfidfVectorizer\n",
    "from sklearn.model_selection import train_test_split\n",
    "from sklearn.feature_extraction.text import CountVectorizer\n",
    "from sklearn.feature_extraction.text import TfidfTransformer\n",
    "from sklearn.naive_bayes import MultinomialNB\n",
    "from sklearn import metrics\n",
    "from joblib import dump"
   ]
  },
  {
   "cell_type": "code",
   "execution_count": 91,
   "id": "2c0f6b96",
   "metadata": {},
   "outputs": [
    {
     "data": {
      "text/html": [
       "<div>\n",
       "<style scoped>\n",
       "    .dataframe tbody tr th:only-of-type {\n",
       "        vertical-align: middle;\n",
       "    }\n",
       "\n",
       "    .dataframe tbody tr th {\n",
       "        vertical-align: top;\n",
       "    }\n",
       "\n",
       "    .dataframe thead th {\n",
       "        text-align: right;\n",
       "    }\n",
       "</style>\n",
       "<table border=\"1\" class=\"dataframe\">\n",
       "  <thead>\n",
       "    <tr style=\"text-align: right;\">\n",
       "      <th></th>\n",
       "      <th>Pattern String</th>\n",
       "      <th>Comment</th>\n",
       "      <th>Pattern Category</th>\n",
       "      <th>Pattern Type</th>\n",
       "      <th>Where in website?</th>\n",
       "      <th>Deceptive?</th>\n",
       "      <th>Website Page</th>\n",
       "    </tr>\n",
       "  </thead>\n",
       "  <tbody>\n",
       "    <tr>\n",
       "      <th>0</th>\n",
       "      <td>Collin P. from Grandview Missouri just bought ...</td>\n",
       "      <td>Periodic popup</td>\n",
       "      <td>Social Proof</td>\n",
       "      <td>Activity Notification</td>\n",
       "      <td>Product Page</td>\n",
       "      <td>No</td>\n",
       "      <td>https://alaindupetit.com/collections/all-suits...</td>\n",
       "    </tr>\n",
       "    <tr>\n",
       "      <th>1</th>\n",
       "      <td>Faith in Glendale, United States purchased a C...</td>\n",
       "      <td>Periodic popup</td>\n",
       "      <td>Social Proof</td>\n",
       "      <td>Activity Notification</td>\n",
       "      <td>Product Page</td>\n",
       "      <td>No</td>\n",
       "      <td>https://bonescoffee.com/products/strawberry-ch...</td>\n",
       "    </tr>\n",
       "    <tr>\n",
       "      <th>2</th>\n",
       "      <td>Sharmeen Atif From Karachi just bought Stylish...</td>\n",
       "      <td>Periodic popup</td>\n",
       "      <td>Social Proof</td>\n",
       "      <td>Activity Notification</td>\n",
       "      <td>Product Page</td>\n",
       "      <td>No</td>\n",
       "      <td>https://brandsego.com/collections/under-rs-99/...</td>\n",
       "    </tr>\n",
       "    <tr>\n",
       "      <th>3</th>\n",
       "      <td>9 people are viewing this.</td>\n",
       "      <td>Product detail</td>\n",
       "      <td>Social Proof</td>\n",
       "      <td>Activity Notification</td>\n",
       "      <td>Product Page</td>\n",
       "      <td>No</td>\n",
       "      <td>https://brightechshop.com/products/ambience-so...</td>\n",
       "    </tr>\n",
       "    <tr>\n",
       "      <th>4</th>\n",
       "      <td>5338 people viewed this in the last hour</td>\n",
       "      <td>Periodic popup</td>\n",
       "      <td>Social Proof</td>\n",
       "      <td>Activity Notification</td>\n",
       "      <td>Product Page</td>\n",
       "      <td>No</td>\n",
       "      <td>https://bumpboxes.com/</td>\n",
       "    </tr>\n",
       "  </tbody>\n",
       "</table>\n",
       "</div>"
      ],
      "text/plain": [
       "                                      Pattern String         Comment  \\\n",
       "0  Collin P. from Grandview Missouri just bought ...  Periodic popup   \n",
       "1  Faith in Glendale, United States purchased a C...  Periodic popup   \n",
       "2  Sharmeen Atif From Karachi just bought Stylish...  Periodic popup   \n",
       "3                         9 people are viewing this.  Product detail   \n",
       "4           5338 people viewed this in the last hour  Periodic popup   \n",
       "\n",
       "  Pattern Category           Pattern Type Where in website? Deceptive?  \\\n",
       "0     Social Proof  Activity Notification      Product Page         No   \n",
       "1     Social Proof  Activity Notification      Product Page         No   \n",
       "2     Social Proof  Activity Notification      Product Page         No   \n",
       "3     Social Proof  Activity Notification      Product Page         No   \n",
       "4     Social Proof  Activity Notification      Product Page         No   \n",
       "\n",
       "                                        Website Page  \n",
       "0  https://alaindupetit.com/collections/all-suits...  \n",
       "1  https://bonescoffee.com/products/strawberry-ch...  \n",
       "2  https://brandsego.com/collections/under-rs-99/...  \n",
       "3  https://brightechshop.com/products/ambience-so...  \n",
       "4                             https://bumpboxes.com/  "
      ]
     },
     "execution_count": 91,
     "metadata": {},
     "output_type": "execute_result"
    }
   ],
   "source": [
    "selected_classification = \"Pattern Type\"\n",
    "\n",
    "df = pd.read_csv('dark_patterns.csv')\n",
    "\n",
    "df.head()"
   ]
  },
  {
   "cell_type": "code",
   "execution_count": 92,
   "id": "5217696e",
   "metadata": {},
   "outputs": [
    {
     "data": {
      "text/html": [
       "<div>\n",
       "<style scoped>\n",
       "    .dataframe tbody tr th:only-of-type {\n",
       "        vertical-align: middle;\n",
       "    }\n",
       "\n",
       "    .dataframe tbody tr th {\n",
       "        vertical-align: top;\n",
       "    }\n",
       "\n",
       "    .dataframe thead th {\n",
       "        text-align: right;\n",
       "    }\n",
       "</style>\n",
       "<table border=\"1\" class=\"dataframe\">\n",
       "  <thead>\n",
       "    <tr style=\"text-align: right;\">\n",
       "      <th></th>\n",
       "      <th>Pattern String</th>\n",
       "      <th>Pattern Type</th>\n",
       "    </tr>\n",
       "  </thead>\n",
       "  <tbody>\n",
       "    <tr>\n",
       "      <th>0</th>\n",
       "      <td>Collin P. from Grandview Missouri just bought ...</td>\n",
       "      <td>Activity Notification</td>\n",
       "    </tr>\n",
       "    <tr>\n",
       "      <th>1</th>\n",
       "      <td>Faith in Glendale, United States purchased a C...</td>\n",
       "      <td>Activity Notification</td>\n",
       "    </tr>\n",
       "    <tr>\n",
       "      <th>2</th>\n",
       "      <td>Sharmeen Atif From Karachi just bought Stylish...</td>\n",
       "      <td>Activity Notification</td>\n",
       "    </tr>\n",
       "    <tr>\n",
       "      <th>3</th>\n",
       "      <td>9 people are viewing this.</td>\n",
       "      <td>Activity Notification</td>\n",
       "    </tr>\n",
       "    <tr>\n",
       "      <th>4</th>\n",
       "      <td>5338 people viewed this in the last hour</td>\n",
       "      <td>Activity Notification</td>\n",
       "    </tr>\n",
       "  </tbody>\n",
       "</table>\n",
       "</div>"
      ],
      "text/plain": [
       "                                      Pattern String           Pattern Type\n",
       "0  Collin P. from Grandview Missouri just bought ...  Activity Notification\n",
       "1  Faith in Glendale, United States purchased a C...  Activity Notification\n",
       "2  Sharmeen Atif From Karachi just bought Stylish...  Activity Notification\n",
       "3                         9 people are viewing this.  Activity Notification\n",
       "4           5338 people viewed this in the last hour  Activity Notification"
      ]
     },
     "execution_count": 92,
     "metadata": {},
     "output_type": "execute_result"
    }
   ],
   "source": [
    "df = df[pd.notnull(df[\"Pattern String\"])]\n",
    "col = [\"Pattern String\", selected_classification]\n",
    "df = df[col]\n",
    "\n",
    "df.head()\n"
   ]
  },
  {
   "cell_type": "code",
   "execution_count": 75,
   "id": "3b5a29cf",
   "metadata": {},
   "outputs": [],
   "source": [
    "df[\"category_id\"] = df[selected_classification].factorize()[0]\n",
    "category_id_df = df[[selected_classification, 'category_id']\n",
    "                    ].drop_duplicates().sort_values('category_id')\n",
    "category_to_id = dict(category_id_df.values)\n",
    "id_to_category = dict(\n",
    "    category_id_df[['category_id', selected_classification]].values)"
   ]
  },
  {
   "cell_type": "code",
   "execution_count": 76,
   "id": "7f24ce4a",
   "metadata": {},
   "outputs": [],
   "source": [
    "\n",
    "tfidf = TfidfVectorizer(sublinear_tf=True, min_df=5, norm='l2',\n",
    "                        encoding='latin-1', ngram_range=(1, 2), stop_words='english')"
   ]
  },
  {
   "cell_type": "code",
   "execution_count": 77,
   "id": "c124eac9",
   "metadata": {},
   "outputs": [],
   "source": [
    "X_train, X_test, y_train, y_test = train_test_split(\n",
    "    df['Pattern String'], df[selected_classification], train_size=0.8)\n",
    "#USING train_size 0.7"
   ]
  },
  {
   "cell_type": "code",
   "execution_count": 78,
   "id": "a4563a49",
   "metadata": {},
   "outputs": [],
   "source": [
    "#Text vectorization for training set\n",
    "count_vect = CountVectorizer()\n",
    "X_train_counts = count_vect.fit_transform(X_train)\n",
    "tfidf_transformer = TfidfTransformer()\n",
    "X_train_tfidf = tfidf_transformer.fit_transform(X_train_counts)"
   ]
  },
  {
   "cell_type": "code",
   "execution_count": 79,
   "id": "8ca6d5e0",
   "metadata": {},
   "outputs": [
    {
     "name": "stdout",
     "output_type": "stream",
     "text": [
      "Accuracy: 0.9240924092409241\n"
     ]
    }
   ],
   "source": [
    "clf_bayes = MultinomialNB().fit(X_train_tfidf, y_train)\n",
    "y_pred = clf_bayes.predict(count_vect.transform(X_test))\n",
    "\n",
    "print(\"Accuracy:\", metrics.accuracy_score(y_pred, y_test))"
   ]
  },
  {
   "cell_type": "code",
   "execution_count": 80,
   "id": "0778ec76",
   "metadata": {},
   "outputs": [
    {
     "name": "stdout",
     "output_type": "stream",
     "text": [
      "Accuracy: 0.5115511551155115\n"
     ]
    }
   ],
   "source": [
    "from sklearn.svm import SVC\n",
    "clf_svc = SVC(kernel = 'rbf').fit(X_train_tfidf, y_train)\n",
    "y_pred = clf_svc.predict(count_vect.transform(X_test))\n",
    "\n",
    "print(\"Accuracy:\", metrics.accuracy_score(y_pred, y_test))"
   ]
  },
  {
   "cell_type": "code",
   "execution_count": 81,
   "id": "a839718c",
   "metadata": {},
   "outputs": [
    {
     "name": "stdout",
     "output_type": "stream",
     "text": [
      "Accuracy: 0.8151815181518152\n"
     ]
    }
   ],
   "source": [
    "from sklearn.tree import DecisionTreeClassifier\n",
    "clf_decTree = DecisionTreeClassifier(criterion = 'entropy', random_state = 0).fit(X_train_tfidf, y_train)\n",
    "y_pred = clf_decTree.predict(count_vect.transform(X_test))\n",
    "\n",
    "print(\"Accuracy:\", metrics.accuracy_score(y_pred, y_test))"
   ]
  },
  {
   "cell_type": "code",
   "execution_count": 82,
   "id": "b726469b",
   "metadata": {},
   "outputs": [
    {
     "name": "stdout",
     "output_type": "stream",
     "text": [
      "Accuracy: 0.9174917491749175\n"
     ]
    }
   ],
   "source": [
    "from sklearn.ensemble import RandomForestClassifier\n",
    "clf_randomForest = RandomForestClassifier(n_estimators = 10, criterion = 'entropy', random_state = 0).fit(X_train_tfidf, y_train)\n",
    "y_pred = clf_randomForest.predict(count_vect.transform(X_test))\n",
    "\n",
    "print(\"Accuracy:\", metrics.accuracy_score(y_pred, y_test))"
   ]
  },
  {
   "cell_type": "code",
   "execution_count": null,
   "id": "c69dceef",
   "metadata": {},
   "outputs": [],
   "source": []
  }
 ],
 "metadata": {
  "kernelspec": {
   "display_name": "Python 3 (ipykernel)",
   "language": "python",
   "name": "python3"
  },
  "language_info": {
   "codemirror_mode": {
    "name": "ipython",
    "version": 3
   },
   "file_extension": ".py",
   "mimetype": "text/x-python",
   "name": "python",
   "nbconvert_exporter": "python",
   "pygments_lexer": "ipython3",
   "version": "3.11.3"
  }
 },
 "nbformat": 4,
 "nbformat_minor": 5
}
